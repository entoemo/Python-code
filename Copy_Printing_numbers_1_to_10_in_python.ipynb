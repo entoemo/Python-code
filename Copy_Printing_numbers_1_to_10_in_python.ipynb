{
  "nbformat": 4,
  "nbformat_minor": 0,
  "metadata": {
    "colab": {
      "provenance": []
    },
    "kernelspec": {
      "name": "python3",
      "display_name": "Python 3"
    },
    "language_info": {
      "name": "python"
    }
  },
  "cells": [
    {
      "cell_type": "code",
      "execution_count": 5,
      "metadata": {
        "colab": {
          "base_uri": "https://localhost:8080/"
        },
        "id": "yL75nOq5yNl6",
        "outputId": "af749274-dac1-4c20-b9d4-99bae98368fa"
      },
      "outputs": [
        {
          "output_type": "stream",
          "name": "stdout",
          "text": [
            "0\n",
            "1\n",
            "2\n",
            "3\n",
            "4\n",
            "5\n",
            "6\n",
            "7\n",
            "8\n",
            "9\n",
            "10\n"
          ]
        }
      ],
      "source": [
        "for i in range(0,11):\n",
        "  print(i)"
      ]
    },
    {
      "cell_type": "code",
      "source": [
        "a=int(input(\"Enter your first name:\"))\n",
        "b=int(input(\"Enter your Last name:\"))\n",
        "c=int(input(\"Enter your University :\"))\n",
        "d=int(input(\"Enter your University Roll Number :\"))\n",
        "e=int(input(\"Enter your Semester/Class Number :\"))"
      ],
      "metadata": {
        "id": "2kp02iTkyrPx"
      },
      "execution_count": null,
      "outputs": []
    }
  ]
}